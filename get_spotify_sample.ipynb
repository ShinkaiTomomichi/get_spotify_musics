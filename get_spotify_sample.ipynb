{
 "cells": [
  {
   "cell_type": "code",
   "execution_count": 64,
   "metadata": {},
   "outputs": [],
   "source": [
    "# Pythonの基本ライブラリ\n",
    "import numpy as np\n",
    "import pandas as pd\n",
    "import matplotlib.pyplot as plt\n",
    "\n",
    "# spotifyのAPIを利用\n",
    "import spotipy"
   ]
  },
  {
   "cell_type": "code",
   "execution_count": 2,
   "metadata": {},
   "outputs": [],
   "source": [
    "# Spotify APIの準備\n",
    "\n",
    "# APIキーをファイルから取得\n",
    "f = open('../secret/clientsecret_spotify', 'r')\n",
    "client_secret = f.read()\n",
    "f.close()\n",
    "client_id, client_secret = client_secret.split('\\n')[0], client_secret.split('\\n')[1]\n",
    "\n",
    "client_credentials_manager = spotipy.oauth2.SpotifyClientCredentials(client_id, client_secret)\n",
    "spotify = spotipy.Spotify(client_credentials_manager=client_credentials_manager)"
   ]
  },
  {
   "cell_type": "code",
   "execution_count": 66,
   "metadata": {},
   "outputs": [
    {
     "name": "stdout",
     "output_type": "stream",
     "text": [
      "name: 畢生よ & artist: 花譜\n",
      "['japanese teen pop', 'japanese vtuber']\n",
      "name: 畢生よ - 柊マグネタイト Remix & artist: 花譜\n",
      "['japanese teen pop', 'japanese vtuber']\n",
      "name: 畢生よ & artist: カンザキイオリ\n",
      "['vocaloid']\n",
      "name: 畢生皐月プロローグ -KING'S PARADE at Kobe World Hall- & artist: UVERworld\n",
      "['anime', 'j-pop', 'j-poprock']\n",
      "name: I Still Miss You (網路劇《搖滾畢業生》插曲) & artist: Feng Ze\n",
      "['mandopop', 'singaporean mandopop', 'singaporean singer-songwriter', 'taiwan pop']\n",
      "name: 畢生皐月プロローグ & artist: UVERworld\n",
      "['anime', 'j-pop', 'j-poprock']\n",
      "name: I Still Miss You (網路劇《搖滾畢業生》插曲) & artist: Feng Ze\n",
      "['mandopop', 'singaporean mandopop', 'singaporean singer-songwriter', 'taiwan pop']\n",
      "name: 畢業生 & artist: 張明敏\n",
      "['c-pop', 'classic cantopop', 'vintage chinese pop']\n",
      "name: 畢業生 & artist: Yen-J\n",
      "['mandopop', 'taiwan pop']\n",
      "name: 畢生 maternal & artist: くーぼ\n",
      "[]\n"
     ]
    }
   ],
   "source": [
    "# track search\n",
    "name = \"畢生\"\n",
    "result = spotify.search(q=\"track:\" + name, limit=10, type=\"track\")\n",
    "\n",
    "items = result['tracks']['items']\n",
    "# 検索結果を取り出す（この中から近いものを取り出さなくてはならない）\n",
    "for item in items:\n",
    "    track_name = item['name']\n",
    "    track_id = item['id']\n",
    "    artist_name = item['artists'][0]['name'] # 複数いる場合もありそう\n",
    "    artist_id = item['artists'][0]['id']\n",
    "    print(\"name:\", track_name, \"& artist:\", artist_name)\n",
    "    \n",
    "    artist = spotify.artist(artist_id)\n",
    "    artist_url = artist['images'][0]['url']\n",
    "    artist_genres = artist['genres']\n",
    "    print(artist_genres)"
   ]
  },
  {
   "cell_type": "code",
   "execution_count": 48,
   "metadata": {},
   "outputs": [
    {
     "data": {
      "text/plain": [
       "{'external_urls': {'spotify': 'https://open.spotify.com/artist/2c32JruIkUyfdycHmhIph4'},\n",
       " 'followers': {'href': None, 'total': 90815},\n",
       " 'genres': ['japanese teen pop', 'japanese vtuber'],\n",
       " 'href': 'https://api.spotify.com/v1/artists/2c32JruIkUyfdycHmhIph4',\n",
       " 'id': '2c32JruIkUyfdycHmhIph4',\n",
       " 'images': [{'height': 640,\n",
       "   'url': 'https://i.scdn.co/image/ab6761610000e5eb8b744dc03fdc36d577602bbb',\n",
       "   'width': 640},\n",
       "  {'height': 320,\n",
       "   'url': 'https://i.scdn.co/image/ab676161000051748b744dc03fdc36d577602bbb',\n",
       "   'width': 320},\n",
       "  {'height': 160,\n",
       "   'url': 'https://i.scdn.co/image/ab6761610000f1788b744dc03fdc36d577602bbb',\n",
       "   'width': 160}],\n",
       " 'name': '花譜',\n",
       " 'popularity': 46,\n",
       " 'type': 'artist',\n",
       " 'uri': 'spotify:artist:2c32JruIkUyfdycHmhIph4'}"
      ]
     },
     "execution_count": 48,
     "metadata": {},
     "output_type": "execute_result"
    }
   ],
   "source": [
    "# アーティスト情報を取得\n",
    "# アーティストの画像情報などを取得可能\n",
    "# genresなどにvtuberとか入っているので面白い分類ができるかも、ボカロとかできると嬉しい\n",
    "\n",
    "result = spotify.artist('2c32JruIkUyfdycHmhIph4')\n",
    "result"
   ]
  },
  {
   "cell_type": "code",
   "execution_count": 59,
   "metadata": {},
   "outputs": [],
   "source": [
    "# アルバム情報\n",
    "# アルバムにもgenresが入っているが花譜の場合は空だった\n",
    "\n",
    "result = spotify.album('4GmTRxRhRzkPDybCcANTvt')\n",
    "# result"
   ]
  },
  {
   "cell_type": "code",
   "execution_count": 51,
   "metadata": {},
   "outputs": [],
   "source": [
    "# 楽曲情報を取得\n",
    "# 楽曲の画像情報は難しいっぽい\n",
    "# durationなどの情報は使えるかも？\n",
    "\n",
    "result = spotify.track('0HySOX0tLtvF6H9ClUWNcJ')\n",
    "# result"
   ]
  },
  {
   "cell_type": "code",
   "execution_count": 60,
   "metadata": {},
   "outputs": [
    {
     "data": {
      "text/plain": [
       "[{'danceability': 0.567,\n",
       "  'energy': 0.942,\n",
       "  'key': 8,\n",
       "  'loudness': -4.254,\n",
       "  'mode': 1,\n",
       "  'speechiness': 0.0368,\n",
       "  'acousticness': 0.0751,\n",
       "  'instrumentalness': 0,\n",
       "  'liveness': 0.13,\n",
       "  'valence': 0.634,\n",
       "  'tempo': 90.003,\n",
       "  'type': 'audio_features',\n",
       "  'id': '0HySOX0tLtvF6H9ClUWNcJ',\n",
       "  'uri': 'spotify:track:0HySOX0tLtvF6H9ClUWNcJ',\n",
       "  'track_href': 'https://api.spotify.com/v1/tracks/0HySOX0tLtvF6H9ClUWNcJ',\n",
       "  'analysis_url': 'https://api.spotify.com/v1/audio-analysis/0HySOX0tLtvF6H9ClUWNcJ',\n",
       "  'duration_ms': 239788,\n",
       "  'time_signature': 4}]"
      ]
     },
     "execution_count": 60,
     "metadata": {},
     "output_type": "execute_result"
    }
   ],
   "source": [
    "# 楽曲の特徴量を取得\n",
    "# ジャンル分けの特徴量として活用したい\n",
    "# これは一通り整理した後に情報を取得したい\n",
    "\n",
    "result = spotify.audio_features('0HySOX0tLtvF6H9ClUWNcJ')\n",
    "result"
   ]
  },
  {
   "cell_type": "markdown",
   "metadata": {},
   "source": [
    "**メモ**\n",
    "\n",
    "情報収集はどういう手順で進めるかを検討する必要あり\n",
    "\n",
    "ひとまず情報を集める\n",
    "アーティスト情報も一応拾っておく（APIから拾えない場合、複数のタイトルがあった場合に面倒なため）\n",
    "楽曲時間も取ってきた方が良さそう（同様の理由）\n",
    "\n",
    "今後データ取得を簡略化する場合は検討するが最初は手厚めに取得する\n",
    "\n",
    "その後データ拡張をするという形でSpotifyのデータを利用していきたい"
   ]
  }
 ],
 "metadata": {
  "kernelspec": {
   "display_name": "study-youtube",
   "language": "python",
   "name": "study-youtube"
  },
  "language_info": {
   "codemirror_mode": {
    "name": "ipython",
    "version": 3
   },
   "file_extension": ".py",
   "mimetype": "text/x-python",
   "name": "python",
   "nbconvert_exporter": "python",
   "pygments_lexer": "ipython3",
   "version": "3.7.10"
  }
 },
 "nbformat": 4,
 "nbformat_minor": 4
}
